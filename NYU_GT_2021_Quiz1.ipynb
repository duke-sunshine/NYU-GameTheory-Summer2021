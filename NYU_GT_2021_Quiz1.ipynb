{
  "nbformat": 4,
  "nbformat_minor": 0,
  "metadata": {
    "colab": {
      "name": "NYU_GT_2021_Quiz1.ipynb",
      "provenance": [],
      "collapsed_sections": [],
      "authorship_tag": "ABX9TyMwQArfUpGVRblWYXPRKCIM",
      "include_colab_link": true
    },
    "kernelspec": {
      "name": "python3",
      "display_name": "Python 3"
    },
    "language_info": {
      "name": "python"
    }
  },
  "cells": [
    {
      "cell_type": "markdown",
      "metadata": {
        "id": "view-in-github",
        "colab_type": "text"
      },
      "source": [
        "<a href=\"https://colab.research.google.com/github/duke-sunshine/NYU-GameTheory-Summer2021/blob/main/NYU_GT_2021_Quiz1.ipynb\" target=\"_parent\"><img src=\"https://colab.research.google.com/assets/colab-badge.svg\" alt=\"Open In Colab\"/></a>"
      ]
    },
    {
      "cell_type": "markdown",
      "metadata": {
        "id": "v2VYmdPnszh5"
      },
      "source": [
        "**Disclaimer**\n",
        "\n",
        "The content is confidential, please don't cite or distribute outside of this class. "
      ]
    },
    {
      "cell_type": "markdown",
      "metadata": {
        "id": "IaInCRzUtv-E"
      },
      "source": [
        "# Part I: Hashing Power Race"
      ]
    },
    {
      "cell_type": "markdown",
      "metadata": {
        "id": "68NfrfjzuiNt"
      },
      "source": [
        "Consider a normal form game of two miners $N={1,2}$. \n",
        "\n",
        "Each miner has to select a computing power, or hash power, as investment choices in Blockchain mining activites. We denote the pure strategy for each miner as $h_i \\in \\{0, 5, 15\\}$.\n",
        "\n",
        "For each miner, their payoff is the difference between the revenue and cost of mining: $u_i(h_i)=\\theta_i G(M)-ch_i$:\n",
        "\n",
        "* $M =I(h_1>0)+I(h_2>0)$ denotes the total number of miners that invest more than zero hash power; \n",
        "\n",
        "* $G(M) =20\\times M^2$ is the revenue of mining;\n",
        "\n",
        "* $\\theta_i=\\frac{h_i}{h_1+h_2}$ is the share of hash power for miner $i$; If $h_1=h_2=0$, we assume that $u_1=u_2=0.$\n",
        "\n",
        "* $c$ is the unit cost of hash power. $c$=1 in Part I. "
      ]
    },
    {
      "cell_type": "markdown",
      "metadata": {
        "id": "2bGOTGPP1rpQ"
      },
      "source": [
        "## Question 1: is there a weakly dominant strategy for this game?\n",
        "\n",
        "* A: yes, $h_i^*=0$\n",
        "\n",
        "* B: yes, $h_i^*=5$\n",
        "\n",
        "* C: yes, $h_i^*=15$\n",
        "\n",
        "\n",
        "* D: No, weekly dominant strategy does not exist."
      ]
    },
    {
      "cell_type": "markdown",
      "metadata": {
        "id": "U6tnT2UB2UuV"
      },
      "source": [
        "## Question 2: is there a pure strategy Nash Equlibrium?\n",
        "\n",
        "* A: yes, $h^*=(0,0)$\n",
        "\n",
        "* B: yes, $h^*=(5,5)$\n",
        "\n",
        "* C: yes, $h^*=(5,15)$ or $h^*=(15,5)$\n",
        "\n",
        "* D: yes, $h^*=(15,15)$\n",
        "\n",
        "* E: No, pure strategy Nash Equlibrium does not exist"
      ]
    },
    {
      "cell_type": "markdown",
      "metadata": {
        "id": "nCq-vPhP3CZ5"
      },
      "source": [
        "## Question 3: the social planner wants to maximize the sum of two miners' utilities, i.e.: $max \\{u_1(h_1)+u_2(h_2)\\}.$ Is the pure strategy Nash Equlibrium consistent with the social planer's choice?\n",
        "\n",
        "* A: yes\n",
        "\n",
        "* B: no\n",
        "\n",
        "* C: not applicable, the pure strategy Nash Equliibrium does not exist."
      ]
    },
    {
      "cell_type": "markdown",
      "metadata": {
        "id": "xvqkMISV4RLf"
      },
      "source": [
        "# Part II: Mixed Strategy Nash Equlibrium\n",
        "\n",
        "Based on the game in Part I, suppose now, the government implements a policy: if a miner has a profit/payoff higher than 40, then the miner has to submit a tax payment of 20. Analyze the new normal formal game and answer the following question. \n",
        "\n",
        "* Hint 1: you need to modify the payoff matrix in Part I. \n",
        "\n",
        "* Hint 2: Eliminate strictly dominated strategy before calculating pure/mixed-strategy Nash Equilibrium"
      ]
    },
    {
      "cell_type": "markdown",
      "metadata": {
        "id": "xV4buI5UWpRg"
      },
      "source": [
        "## Question 4: Which of the following is correct?\n",
        "\n",
        "* A: there exists only one Nash Equlibrium $h^*=(5,5)$ \n",
        "* B: there exist only two Nash Equlibria $h^*=(5, 15)$ and $h^*=(15, 5)$\n",
        "* C: there exist only two Nash Equilibra $h^*=(5, 5)$ and $h^*=(15, 15)$\n",
        "* D: there exist three Nash Equilibria, in the mixed-strategy equilibrium 5 and 15 are played with equal probability. "
      ]
    },
    {
      "cell_type": "markdown",
      "metadata": {
        "id": "r-dWmmwX4c2l"
      },
      "source": [
        "# Part III: Bayesian Nash Equilibrium\n",
        "\n",
        "Based on the game in Part I, suppose now,  the unit cost for hash power $c$ is uncertain. $c$ will be 1 or 2 with equal probability. Moreover, $c$ is the private information for miner 1 and miner 2 only know the prior distribution.\n",
        "Analyze the Bayesian game and anser the following question:"
      ]
    },
    {
      "cell_type": "markdown",
      "metadata": {
        "id": "cHYhnqS3bE_N"
      },
      "source": [
        "## Question 5: Which of the following is a Bayesian Nash Equlibirium?\n",
        "\n",
        "* A: miner 1 always select 15, and miner 2 select 5\n",
        "* B: miner 1 always select 15, and miner 2 select 15\n",
        "* C: miner 1 select 15 when $c=1$, and 5 when $c=2$; miner 2 select 5\n",
        "* D: miner 1 select 5 when $c=1$, and 15 when $c=2$; miner 2 select 5"
      ]
    }
  ]
}