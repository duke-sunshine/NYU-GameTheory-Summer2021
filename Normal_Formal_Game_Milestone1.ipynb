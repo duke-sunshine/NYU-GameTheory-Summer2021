{
  "nbformat": 4,
  "nbformat_minor": 0,
  "metadata": {
    "colab": {
      "name": "Normal Formal Game_Milestone1.ipynb",
      "provenance": [],
      "collapsed_sections": [],
      "include_colab_link": true
    },
    "kernelspec": {
      "name": "python3",
      "display_name": "Python 3"
    },
    "language_info": {
      "name": "python"
    }
  },
  "cells": [
    {
      "cell_type": "markdown",
      "metadata": {
        "id": "view-in-github",
        "colab_type": "text"
      },
      "source": [
        "<a href=\"https://colab.research.google.com/github/duke-sunshine/NYU-GameTheory-Summer2021/blob/main/Normal_Formal_Game_Milestone1.ipynb\" target=\"_parent\"><img src=\"https://colab.research.google.com/assets/colab-badge.svg\" alt=\"Open In Colab\"/></a>"
      ]
    },
    {
      "cell_type": "code",
      "metadata": {
        "colab": {
          "base_uri": "https://localhost:8080/"
        },
        "id": "_7Na7_Kd158W",
        "outputId": "19a48129-4470-4f39-d662-e1f28899b0cb"
      },
      "source": [
        "# install the tools you will use laterz\n",
        "!pip install --upgrade setuptools\n",
        "!pip install --upgrade pip\n",
        "!pip install nashpy"
      ],
      "execution_count": null,
      "outputs": [
        {
          "output_type": "stream",
          "text": [
            "Requirement already satisfied: setuptools in /usr/local/lib/python3.7/dist-packages (57.1.0)\n",
            "\u001b[33mWARNING: Running pip as the 'root' user can result in broken permissions and conflicting behaviour with the system package manager. It is recommended to use a virtual environment instead: https://pip.pypa.io/warnings/venv\u001b[0m\n",
            "Requirement already satisfied: pip in /usr/local/lib/python3.7/dist-packages (21.1.3)\n",
            "\u001b[33mWARNING: Running pip as the 'root' user can result in broken permissions and conflicting behaviour with the system package manager. It is recommended to use a virtual environment instead: https://pip.pypa.io/warnings/venv\u001b[0m\n",
            "Requirement already satisfied: nashpy in /usr/local/lib/python3.7/dist-packages (0.0.21)\n",
            "Requirement already satisfied: scipy>=0.19.0 in /usr/local/lib/python3.7/dist-packages (from nashpy) (1.4.1)\n",
            "Requirement already satisfied: numpy>=1.12.1 in /usr/local/lib/python3.7/dist-packages (from nashpy) (1.19.5)\n",
            "\u001b[33mWARNING: Running pip as the 'root' user can result in broken permissions and conflicting behaviour with the system package manager. It is recommended to use a virtual environment instead: https://pip.pypa.io/warnings/venv\u001b[0m\n"
          ],
          "name": "stdout"
        }
      ]
    },
    {
      "cell_type": "markdown",
      "metadata": {
        "id": "IMuhDk7K1rko"
      },
      "source": [
        "# Abstract the Game"
      ]
    },
    {
      "cell_type": "markdown",
      "metadata": {
        "id": "tiyQsw6ZUQXl"
      },
      "source": [
        "## Game illustration"
      ]
    },
    {
      "cell_type": "code",
      "metadata": {
        "colab": {
          "base_uri": "https://localhost:8080/"
        },
        "id": "kmomDpPgY_ix",
        "outputId": "6e22f081-4f3f-4826-dc8b-29fa2639af6f"
      },
      "source": [
        "#@title Table1: Prisoner's Dilemma\n",
        "# import module\n",
        "from tabulate import tabulate\n",
        "table = [['','','Prisoner B',''],\n",
        "         ['','','confess','deny'],\n",
        "         ['Prisoner A','confess','-3,-3','0,-6'],\n",
        "         ['','deny','-6,0','-1,-1']]\n",
        "print(tabulate(table,tablefmt='grid'))"
      ],
      "execution_count": null,
      "outputs": [
        {
          "output_type": "stream",
          "text": [
            "+------------+---------+------------+-------+\n",
            "|            |         | Prisoner B |       |\n",
            "+------------+---------+------------+-------+\n",
            "|            |         | confess    | deny  |\n",
            "+------------+---------+------------+-------+\n",
            "| Prisoner A | confess | -3,-3      | 0,-6  |\n",
            "+------------+---------+------------+-------+\n",
            "|            | deny    | -6,0       | -1,-1 |\n",
            "+------------+---------+------------+-------+\n"
          ],
          "name": "stdout"
        }
      ]
    },
    {
      "cell_type": "code",
      "metadata": {
        "colab": {
          "base_uri": "https://localhost:8080/",
          "height": 142
        },
        "id": "x4XYM4XIUHYJ",
        "outputId": "292a0b86-3cb9-4a56-fa01-2208a88501a6"
      },
      "source": [
        "#@title Table1: Prisoner's Dilemma\n",
        "import pandas as pd\n",
        "import numpy as np\n",
        "df2 = pd.DataFrame([['-3,-3','0,-6'],\n",
        "                    ['-6,0','-1,-1']],\n",
        "                  columns = [['Prisoner B','Prisoner B'],['confess','deny']],\n",
        "                  index = [['Prisoner A','Prisoner A'],['confess','deny']])\n",
        "df2"
      ],
      "execution_count": null,
      "outputs": [
        {
          "output_type": "execute_result",
          "data": {
            "text/html": [
              "<div>\n",
              "<style scoped>\n",
              "    .dataframe tbody tr th:only-of-type {\n",
              "        vertical-align: middle;\n",
              "    }\n",
              "\n",
              "    .dataframe tbody tr th {\n",
              "        vertical-align: top;\n",
              "    }\n",
              "\n",
              "    .dataframe thead tr th {\n",
              "        text-align: left;\n",
              "    }\n",
              "</style>\n",
              "<table border=\"1\" class=\"dataframe\">\n",
              "  <thead>\n",
              "    <tr>\n",
              "      <th></th>\n",
              "      <th></th>\n",
              "      <th colspan=\"2\" halign=\"left\">Prisoner B</th>\n",
              "    </tr>\n",
              "    <tr>\n",
              "      <th></th>\n",
              "      <th></th>\n",
              "      <th>confess</th>\n",
              "      <th>deny</th>\n",
              "    </tr>\n",
              "  </thead>\n",
              "  <tbody>\n",
              "    <tr>\n",
              "      <th rowspan=\"2\" valign=\"top\">Prisoner A</th>\n",
              "      <th>confess</th>\n",
              "      <td>-3,-3</td>\n",
              "      <td>0,-6</td>\n",
              "    </tr>\n",
              "    <tr>\n",
              "      <th>deny</th>\n",
              "      <td>-6,0</td>\n",
              "      <td>-1,-1</td>\n",
              "    </tr>\n",
              "  </tbody>\n",
              "</table>\n",
              "</div>"
            ],
            "text/plain": [
              "                   Prisoner B       \n",
              "                      confess   deny\n",
              "Prisoner A confess      -3,-3   0,-6\n",
              "           deny          -6,0  -1,-1"
            ]
          },
          "metadata": {
            "tags": []
          },
          "execution_count": 9
        }
      ]
    },
    {
      "cell_type": "markdown",
      "metadata": {
        "id": "mG4pbyS7US6b"
      },
      "source": [
        "## Define the Game Object"
      ]
    },
    {
      "cell_type": "code",
      "metadata": {
        "colab": {
          "base_uri": "https://localhost:8080/"
        },
        "id": "MPytUW3mUcNx",
        "outputId": "f0965820-a8ed-4797-962b-50632e4c5ba9"
      },
      "source": [
        "import nashpy as nash\n",
        "import numpy as np\n",
        "\n",
        "# Creater the game with the payoff matrix\n",
        "\n",
        "A = np.array([[-3,0],[-6,-1]]) # A is the row player (in this case, prisoner)\n",
        "B = np.array([[-3,-6],[0,-1]]) # B is the column player\n",
        "\n",
        "game1 = nash.Game(A,B)\n",
        "game1"
      ],
      "execution_count": null,
      "outputs": [
        {
          "output_type": "execute_result",
          "data": {
            "text/plain": [
              "Bi matrix game with payoff matrices:\n",
              "\n",
              "Row player:\n",
              "[[-3  0]\n",
              " [-6 -1]]\n",
              "\n",
              "Column player:\n",
              "[[-3 -6]\n",
              " [ 0 -1]]"
            ]
          },
          "metadata": {
            "tags": []
          },
          "execution_count": 10
        }
      ]
    },
    {
      "cell_type": "markdown",
      "metadata": {
        "id": "fs-dk8wT1y4x"
      },
      "source": [
        "# Solve for Best Responses"
      ]
    },
    {
      "cell_type": "code",
      "metadata": {
        "colab": {
          "base_uri": "https://localhost:8080/"
        },
        "id": "H7DRlAISsJva",
        "outputId": "9397e2b7-04eb-4f64-a1bc-b91f2b1fbbef"
      },
      "source": [
        "pip install quantecon"
      ],
      "execution_count": null,
      "outputs": [
        {
          "output_type": "stream",
          "text": [
            "Collecting quantecon\n",
            "  Downloading quantecon-0.5.1-py3-none-any.whl (240 kB)\n",
            "\u001b[?25l\r\u001b[K     |█▍                              | 10 kB 11.2 MB/s eta 0:00:01\r\u001b[K     |██▊                             | 20 kB 16.4 MB/s eta 0:00:01\r\u001b[K     |████                            | 30 kB 20.7 MB/s eta 0:00:01\r\u001b[K     |█████▍                          | 40 kB 22.9 MB/s eta 0:00:01\r\u001b[K     |██████▉                         | 51 kB 12.9 MB/s eta 0:00:01\r\u001b[K     |████████▏                       | 61 kB 13.0 MB/s eta 0:00:01\r\u001b[K     |█████████▌                      | 71 kB 9.1 MB/s eta 0:00:01\r\u001b[K     |██████████▉                     | 81 kB 10.0 MB/s eta 0:00:01\r\u001b[K     |████████████▎                   | 92 kB 9.2 MB/s eta 0:00:01\r\u001b[K     |█████████████▋                  | 102 kB 9.9 MB/s eta 0:00:01\r\u001b[K     |███████████████                 | 112 kB 9.9 MB/s eta 0:00:01\r\u001b[K     |████████████████▎               | 122 kB 9.9 MB/s eta 0:00:01\r\u001b[K     |█████████████████▊              | 133 kB 9.9 MB/s eta 0:00:01\r\u001b[K     |███████████████████             | 143 kB 9.9 MB/s eta 0:00:01\r\u001b[K     |████████████████████▍           | 153 kB 9.9 MB/s eta 0:00:01\r\u001b[K     |█████████████████████▊          | 163 kB 9.9 MB/s eta 0:00:01\r\u001b[K     |███████████████████████▏        | 174 kB 9.9 MB/s eta 0:00:01\r\u001b[K     |████████████████████████▌       | 184 kB 9.9 MB/s eta 0:00:01\r\u001b[K     |█████████████████████████▉      | 194 kB 9.9 MB/s eta 0:00:01\r\u001b[K     |███████████████████████████▏    | 204 kB 9.9 MB/s eta 0:00:01\r\u001b[K     |████████████████████████████▋   | 215 kB 9.9 MB/s eta 0:00:01\r\u001b[K     |██████████████████████████████  | 225 kB 9.9 MB/s eta 0:00:01\r\u001b[K     |███████████████████████████████▎| 235 kB 9.9 MB/s eta 0:00:01\r\u001b[K     |████████████████████████████████| 240 kB 9.9 MB/s \n",
            "\u001b[?25hRequirement already satisfied: numba>=0.38 in /usr/local/lib/python3.7/dist-packages (from quantecon) (0.51.2)\n",
            "Requirement already satisfied: requests in /usr/local/lib/python3.7/dist-packages (from quantecon) (2.23.0)\n",
            "Requirement already satisfied: numpy in /usr/local/lib/python3.7/dist-packages (from quantecon) (1.19.5)\n",
            "Requirement already satisfied: sympy in /usr/local/lib/python3.7/dist-packages (from quantecon) (1.7.1)\n",
            "Requirement already satisfied: scipy>=1.0.0 in /usr/local/lib/python3.7/dist-packages (from quantecon) (1.4.1)\n",
            "Requirement already satisfied: llvmlite<0.35,>=0.34.0.dev0 in /usr/local/lib/python3.7/dist-packages (from numba>=0.38->quantecon) (0.34.0)\n",
            "Requirement already satisfied: setuptools in /usr/local/lib/python3.7/dist-packages (from numba>=0.38->quantecon) (57.1.0)\n",
            "Requirement already satisfied: chardet<4,>=3.0.2 in /usr/local/lib/python3.7/dist-packages (from requests->quantecon) (3.0.4)\n",
            "Requirement already satisfied: idna<3,>=2.5 in /usr/local/lib/python3.7/dist-packages (from requests->quantecon) (2.10)\n",
            "Requirement already satisfied: urllib3!=1.25.0,!=1.25.1,<1.26,>=1.21.1 in /usr/local/lib/python3.7/dist-packages (from requests->quantecon) (1.24.3)\n",
            "Requirement already satisfied: certifi>=2017.4.17 in /usr/local/lib/python3.7/dist-packages (from requests->quantecon) (2021.5.30)\n",
            "Requirement already satisfied: mpmath>=0.19 in /usr/local/lib/python3.7/dist-packages (from sympy->quantecon) (1.2.1)\n",
            "Installing collected packages: quantecon\n",
            "Successfully installed quantecon-0.5.1\n",
            "\u001b[33mWARNING: Running pip as the 'root' user can result in broken permissions and conflicting behaviour with the system package manager. It is recommended to use a virtual environment instead: https://pip.pypa.io/warnings/venv\u001b[0m\n"
          ],
          "name": "stdout"
        }
      ]
    },
    {
      "cell_type": "code",
      "metadata": {
        "colab": {
          "base_uri": "https://localhost:8080/"
        },
        "id": "7e6HjCfVsGeo",
        "outputId": "5fbec570-49fc-408a-952d-87bc2e9b85d5"
      },
      "source": [
        "# import the package\n",
        "import quantecon.game_theory as gt"
      ],
      "execution_count": null,
      "outputs": [
        {
          "output_type": "stream",
          "text": [
            "/usr/local/lib/python3.7/dist-packages/numba/np/ufunc/parallel.py:363: NumbaWarning: The TBB threading layer requires TBB version 2019.5 or later i.e., TBB_INTERFACE_VERSION >= 11005. Found TBB_INTERFACE_VERSION = 9107. The TBB threading layer is disabled.\n",
            "  warnings.warn(problem)\n"
          ],
          "name": "stderr"
        }
      ]
    },
    {
      "cell_type": "code",
      "metadata": {
        "id": "uh5S7R5tsmMN"
      },
      "source": [
        "coordination_game_matrix = [[4, 0],\n",
        "                            [3, 2]]  # square matrix\n",
        "g_Coo = gt.NormalFormGame(coordination_game_matrix)"
      ],
      "execution_count": null,
      "outputs": []
    },
    {
      "cell_type": "code",
      "metadata": {
        "colab": {
          "base_uri": "https://localhost:8080/"
        },
        "id": "9F8Ax7ZBsnyd",
        "outputId": "a54b5d07-9ab0-44ad-ed23-b2b291165315"
      },
      "source": [
        "print(g_Coo)\n"
      ],
      "execution_count": null,
      "outputs": [
        {
          "output_type": "stream",
          "text": [
            "2-player NormalFormGame with payoff profile array:\n",
            "[[[4, 4],  [0, 3]],\n",
            " [[3, 0],  [2, 2]]]\n"
          ],
          "name": "stdout"
        }
      ]
    },
    {
      "cell_type": "code",
      "metadata": {
        "colab": {
          "base_uri": "https://localhost:8080/"
        },
        "id": "oSyrzkCYsqmo",
        "outputId": "dd18e9ef-cc2d-4203-8618-1162a2e20cab"
      },
      "source": [
        "g_Coo.players[0].payoff_array  # Player 0's payoff array"
      ],
      "execution_count": null,
      "outputs": [
        {
          "output_type": "execute_result",
          "data": {
            "text/plain": [
              "array([[4, 0],\n",
              "       [3, 2]])"
            ]
          },
          "metadata": {
            "tags": []
          },
          "execution_count": 15
        }
      ]
    },
    {
      "cell_type": "code",
      "metadata": {
        "colab": {
          "base_uri": "https://localhost:8080/"
        },
        "id": "lbFJlnmns1P1",
        "outputId": "efc4d4b6-f8a8-443c-fc6c-df1ffdab8515"
      },
      "source": [
        "g_Coo.players[1].payoff_array  # Player 1's payoff array"
      ],
      "execution_count": null,
      "outputs": [
        {
          "output_type": "execute_result",
          "data": {
            "text/plain": [
              "array([[4, 0],\n",
              "       [3, 2]])"
            ]
          },
          "metadata": {
            "tags": []
          },
          "execution_count": 16
        }
      ]
    },
    {
      "cell_type": "code",
      "metadata": {
        "colab": {
          "base_uri": "https://localhost:8080/"
        },
        "id": "orCPdbFZtB44",
        "outputId": "9d4b2478-bf70-44c8-faf6-b3b742fba16c"
      },
      "source": [
        "g_Coo.players[0].best_response(1)"
      ],
      "execution_count": null,
      "outputs": [
        {
          "output_type": "execute_result",
          "data": {
            "text/plain": [
              "1"
            ]
          },
          "metadata": {
            "tags": []
          },
          "execution_count": 17
        }
      ]
    },
    {
      "cell_type": "code",
      "metadata": {
        "colab": {
          "base_uri": "https://localhost:8080/"
        },
        "id": "roJw2mEStHm8",
        "outputId": "4106ea96-1535-4381-bcdf-2b4cb6051f1c"
      },
      "source": [
        "g_Coo.players[0].best_response(0)"
      ],
      "execution_count": null,
      "outputs": [
        {
          "output_type": "execute_result",
          "data": {
            "text/plain": [
              "0"
            ]
          },
          "metadata": {
            "tags": []
          },
          "execution_count": 18
        }
      ]
    },
    {
      "cell_type": "code",
      "metadata": {
        "colab": {
          "base_uri": "https://localhost:8080/"
        },
        "id": "4HdMEhiwtKoK",
        "outputId": "e1e51c92-a56e-443c-9a86-c3cf222acf67"
      },
      "source": [
        "g_Coo.players[0].best_response([0.5,0.5])"
      ],
      "execution_count": null,
      "outputs": [
        {
          "output_type": "execute_result",
          "data": {
            "text/plain": [
              "1"
            ]
          },
          "metadata": {
            "tags": []
          },
          "execution_count": 19
        }
      ]
    },
    {
      "cell_type": "markdown",
      "metadata": {
        "id": "ct6IgA9k13Ri"
      },
      "source": [
        "# Solve for Nash Equilibrium"
      ]
    },
    {
      "cell_type": "markdown",
      "metadata": {
        "id": "qNxP02K2Uums"
      },
      "source": [
        "## solve for the Nash Equilibrium"
      ]
    },
    {
      "cell_type": "code",
      "metadata": {
        "colab": {
          "base_uri": "https://localhost:8080/"
        },
        "cellView": "form",
        "id": "1WMavWw8v-cy",
        "outputId": "8da30fa1-dca2-49fc-ad9e-a5b7a78e0a1e"
      },
      "source": [
        "#@title Table1: Prisoner's Dilemma\n",
        "# import module\n",
        "from tabulate import tabulate\n",
        "table = [['','','Prisoner B',''],\n",
        "         ['','','confess','deny'],\n",
        "         ['Prisoner A','confess','-3,-3','0,-6'],\n",
        "         ['','deny','-6,0','-1,-1']]\n",
        "print(tabulate(table,tablefmt='grid'))"
      ],
      "execution_count": null,
      "outputs": [
        {
          "output_type": "stream",
          "text": [
            "+------------+---------+------------+-------+\n",
            "|            |         | Prisoner B |       |\n",
            "+------------+---------+------------+-------+\n",
            "|            |         | confess    | deny  |\n",
            "+------------+---------+------------+-------+\n",
            "| Prisoner A | confess | -3,-3      | 0,-6  |\n",
            "+------------+---------+------------+-------+\n",
            "|            | deny    | -6,0       | -1,-1 |\n",
            "+------------+---------+------------+-------+\n"
          ],
          "name": "stdout"
        }
      ]
    },
    {
      "cell_type": "code",
      "metadata": {
        "colab": {
          "base_uri": "https://localhost:8080/"
        },
        "id": "9qr9iPzW2iMa",
        "outputId": "dfdf8374-d176-4796-f808-2d7bf468cdb1"
      },
      "source": [
        "# find the Nash equilibrium with Support Enumeration\n",
        "\n",
        "equilibria = game1.support_enumeration()\n",
        "for eq in equilibria:\n",
        "    print(eq)"
      ],
      "execution_count": null,
      "outputs": [
        {
          "output_type": "stream",
          "text": [
            "(array([1., 0.]), array([1., 0.]))\n"
          ],
          "name": "stdout"
        }
      ]
    },
    {
      "cell_type": "markdown",
      "metadata": {
        "id": "YoxhtVoSU5zn"
      },
      "source": [
        "## calculate utility"
      ]
    },
    {
      "cell_type": "code",
      "metadata": {
        "colab": {
          "base_uri": "https://localhost:8080/"
        },
        "id": "tAOSvi2aU8CG",
        "outputId": "d121f712-b287-456f-cd19-64e2aadf4fc1"
      },
      "source": [
        "# Calculate Utilities\n",
        "\n",
        "sigma_a = np.array([1,0])\n",
        "sigma_b = np.array([1,0])\n",
        "pd = nash.Game(A, B)\n",
        "pd[sigma_a, sigma_b]"
      ],
      "execution_count": null,
      "outputs": [
        {
          "output_type": "execute_result",
          "data": {
            "text/plain": [
              "array([-3, -3])"
            ]
          },
          "metadata": {
            "tags": []
          },
          "execution_count": 22
        }
      ]
    },
    {
      "cell_type": "markdown",
      "metadata": {
        "id": "2Ff9q60ogUow"
      },
      "source": [
        "## abstract the game"
      ]
    },
    {
      "cell_type": "code",
      "metadata": {
        "cellView": "form",
        "colab": {
          "base_uri": "https://localhost:8080/"
        },
        "id": "xPZA_XKpgUIE",
        "outputId": "a4d142e2-e6ff-443b-9272-c3ea99f674c2"
      },
      "source": [
        "#@title Table1: Prisoner's Dilemma\n",
        "# import module\n",
        "from tabulate import tabulate\n",
        "table = [['','','Player B',''],\n",
        "         ['','','Heads','Tails'],\n",
        "         ['Player A','Heads','1,-1','-1,1'],\n",
        "         ['','Tails','-1,1','1,-1']]\n",
        "print(tabulate(table,tablefmt='grid'))"
      ],
      "execution_count": null,
      "outputs": [
        {
          "output_type": "stream",
          "text": [
            "+----------+-------+----------+-------+\n",
            "|          |       | Player B |       |\n",
            "+----------+-------+----------+-------+\n",
            "|          |       | Heads    | Tails |\n",
            "+----------+-------+----------+-------+\n",
            "| Player A | Heads | 1,-1     | -1,1  |\n",
            "+----------+-------+----------+-------+\n",
            "|          | Tails | -1,1     | 1,-1  |\n",
            "+----------+-------+----------+-------+\n"
          ],
          "name": "stdout"
        }
      ]
    },
    {
      "cell_type": "code",
      "metadata": {
        "colab": {
          "base_uri": "https://localhost:8080/",
          "height": 162
        },
        "cellView": "form",
        "id": "v30ClFDMhRea",
        "outputId": "2da3068a-0897-445e-d971-ad7c8ae729cc"
      },
      "source": [
        "#@title Table1: Prisoner's Dilemma\n",
        "import pandas as pd\n",
        "import numpy as np\n",
        "df2 = pd.DataFrame([['1,-1','-1,1'],\n",
        "                    ['-1,1','1,-1']],\n",
        "                  columns = [['Player B','Player B'],['Head','Tail']],\n",
        "                  index = [['Player A','Player A'],['Head','Tail']])\n",
        "df2"
      ],
      "execution_count": null,
      "outputs": [
        {
          "output_type": "execute_result",
          "data": {
            "text/html": [
              "<div>\n",
              "<style scoped>\n",
              "    .dataframe tbody tr th:only-of-type {\n",
              "        vertical-align: middle;\n",
              "    }\n",
              "\n",
              "    .dataframe tbody tr th {\n",
              "        vertical-align: top;\n",
              "    }\n",
              "\n",
              "    .dataframe thead tr th {\n",
              "        text-align: left;\n",
              "    }\n",
              "</style>\n",
              "<table border=\"1\" class=\"dataframe\">\n",
              "  <thead>\n",
              "    <tr>\n",
              "      <th></th>\n",
              "      <th></th>\n",
              "      <th colspan=\"2\" halign=\"left\">Player B</th>\n",
              "    </tr>\n",
              "    <tr>\n",
              "      <th></th>\n",
              "      <th></th>\n",
              "      <th>Head</th>\n",
              "      <th>Tail</th>\n",
              "    </tr>\n",
              "  </thead>\n",
              "  <tbody>\n",
              "    <tr>\n",
              "      <th rowspan=\"2\" valign=\"top\">Player A</th>\n",
              "      <th>Head</th>\n",
              "      <td>1,-1</td>\n",
              "      <td>-1,1</td>\n",
              "    </tr>\n",
              "    <tr>\n",
              "      <th>Tail</th>\n",
              "      <td>-1,1</td>\n",
              "      <td>1,-1</td>\n",
              "    </tr>\n",
              "  </tbody>\n",
              "</table>\n",
              "</div>"
            ],
            "text/plain": [
              "              Player B      \n",
              "                  Head  Tail\n",
              "Player A Head     1,-1  -1,1\n",
              "         Tail     -1,1  1,-1"
            ]
          },
          "metadata": {
            "tags": []
          },
          "execution_count": 24
        }
      ]
    },
    {
      "cell_type": "markdown",
      "metadata": {
        "id": "g8Z4JL11hyMo"
      },
      "source": [
        "## Define the Game Object"
      ]
    },
    {
      "cell_type": "markdown",
      "metadata": {
        "id": "e_F-F2-CgNzn"
      },
      "source": [
        "# Example 1: Matching Pennies"
      ]
    },
    {
      "cell_type": "code",
      "metadata": {
        "colab": {
          "base_uri": "https://localhost:8080/"
        },
        "id": "r2oBGF8ognhc",
        "outputId": "9d6b91a7-3acc-40f7-d080-ff9eff72f1d1"
      },
      "source": [
        "import nashpy as nash\n",
        "import numpy as np\n",
        "\n",
        "# Creater the game with the payoff matrix\n",
        "\n",
        "A = np.array([[1,-1],[-1,1]]) # A is the row player (in this case, prisoner)\n",
        "B = np.array([[-1,1],[1,-1]]) # B is the column player\n",
        "\n",
        "game2 = nash.Game(A,B)\n",
        "game2"
      ],
      "execution_count": null,
      "outputs": [
        {
          "output_type": "execute_result",
          "data": {
            "text/plain": [
              "Zero sum game with payoff matrices:\n",
              "\n",
              "Row player:\n",
              "[[ 1 -1]\n",
              " [-1  1]]\n",
              "\n",
              "Column player:\n",
              "[[-1  1]\n",
              " [ 1 -1]]"
            ]
          },
          "metadata": {
            "tags": []
          },
          "execution_count": 25
        }
      ]
    },
    {
      "cell_type": "markdown",
      "metadata": {
        "id": "FR8ySkrmtdlA"
      },
      "source": [
        "## calculating best response"
      ]
    },
    {
      "cell_type": "code",
      "metadata": {
        "id": "CIskA0eltf61"
      },
      "source": [
        "matching_pennies_bimatrix = [[(1, -1), (-1, 1)],\n",
        "                             [(-1, 1), (1, -1)]]\n",
        "g_MP = gt.NormalFormGame(matching_pennies_bimatrix)"
      ],
      "execution_count": null,
      "outputs": []
    },
    {
      "cell_type": "code",
      "metadata": {
        "colab": {
          "base_uri": "https://localhost:8080/"
        },
        "id": "KOaBQxlAtobh",
        "outputId": "225c22fc-6cdc-469d-d287-2d2b4e64243f"
      },
      "source": [
        "print(g_MP)"
      ],
      "execution_count": null,
      "outputs": [
        {
          "output_type": "stream",
          "text": [
            "2-player NormalFormGame with payoff profile array:\n",
            "[[[ 1, -1],  [-1,  1]],\n",
            " [[-1,  1],  [ 1, -1]]]\n"
          ],
          "name": "stdout"
        }
      ]
    },
    {
      "cell_type": "code",
      "metadata": {
        "colab": {
          "base_uri": "https://localhost:8080/"
        },
        "id": "52Rl2sORtr8u",
        "outputId": "816163df-cea9-40aa-fe32-9c6ced561909"
      },
      "source": [
        "print(g_MP.players[0])  # Player instance for player 0"
      ],
      "execution_count": null,
      "outputs": [
        {
          "output_type": "stream",
          "text": [
            "Player in a 2-player normal form game with payoff array:\n",
            "[[ 1, -1],\n",
            " [-1,  1]]\n"
          ],
          "name": "stdout"
        }
      ]
    },
    {
      "cell_type": "code",
      "metadata": {
        "colab": {
          "base_uri": "https://localhost:8080/"
        },
        "id": "TuN3uKWpts5J",
        "outputId": "91eec069-4bcc-4ea5-b7b0-4667b382242c"
      },
      "source": [
        "print(g_MP.players[1])  # Player instance for player 1"
      ],
      "execution_count": null,
      "outputs": [
        {
          "output_type": "stream",
          "text": [
            "Player in a 2-player normal form game with payoff array:\n",
            "[[-1,  1],\n",
            " [ 1, -1]]\n"
          ],
          "name": "stdout"
        }
      ]
    },
    {
      "cell_type": "code",
      "metadata": {
        "colab": {
          "base_uri": "https://localhost:8080/"
        },
        "id": "5Rn8sHVptwls",
        "outputId": "62c90bd0-e863-4580-9035-5bfe79857c09"
      },
      "source": [
        "g_MP.players[0].payoff_array  # Player 0's payoff array"
      ],
      "execution_count": null,
      "outputs": [
        {
          "output_type": "execute_result",
          "data": {
            "text/plain": [
              "array([[ 1, -1],\n",
              "       [-1,  1]])"
            ]
          },
          "metadata": {
            "tags": []
          },
          "execution_count": 30
        }
      ]
    },
    {
      "cell_type": "code",
      "metadata": {
        "colab": {
          "base_uri": "https://localhost:8080/"
        },
        "id": "huIyR5Swt2V9",
        "outputId": "2abaa656-3bfa-4da1-e2d7-b04bf4f1a8b7"
      },
      "source": [
        "g_MP.players[1].payoff_array  # Player 1's payoff array"
      ],
      "execution_count": null,
      "outputs": [
        {
          "output_type": "execute_result",
          "data": {
            "text/plain": [
              "array([[-1,  1],\n",
              "       [ 1, -1]])"
            ]
          },
          "metadata": {
            "tags": []
          },
          "execution_count": 31
        }
      ]
    },
    {
      "cell_type": "code",
      "metadata": {
        "colab": {
          "base_uri": "https://localhost:8080/"
        },
        "id": "agsjYrQdt5Fk",
        "outputId": "7b952255-c07b-4fd9-d110-9ca9916daa35"
      },
      "source": [
        "g_MP[0, 0]  # payoff profile for action profile (0, 0)"
      ],
      "execution_count": null,
      "outputs": [
        {
          "output_type": "execute_result",
          "data": {
            "text/plain": [
              "array([ 1, -1])"
            ]
          },
          "metadata": {
            "tags": []
          },
          "execution_count": 32
        }
      ]
    },
    {
      "cell_type": "code",
      "metadata": {
        "colab": {
          "base_uri": "https://localhost:8080/"
        },
        "id": "9Vt2wAFqt93u",
        "outputId": "9f4a860d-5d6b-437e-e014-78c7816f11e2"
      },
      "source": [
        "g_MP.players[0].best_response(1)"
      ],
      "execution_count": null,
      "outputs": [
        {
          "output_type": "execute_result",
          "data": {
            "text/plain": [
              "1"
            ]
          },
          "metadata": {
            "tags": []
          },
          "execution_count": 33
        }
      ]
    },
    {
      "cell_type": "code",
      "metadata": {
        "colab": {
          "base_uri": "https://localhost:8080/"
        },
        "id": "RKo-WkLouAR-",
        "outputId": "40c38e3b-8403-45b2-f177-34205d58c875"
      },
      "source": [
        "# By default, returns the best response action with the smallest index\n",
        "g_MP.players[0].best_response([0.5, 0.5])"
      ],
      "execution_count": null,
      "outputs": [
        {
          "output_type": "execute_result",
          "data": {
            "text/plain": [
              "0"
            ]
          },
          "metadata": {
            "tags": []
          },
          "execution_count": 34
        }
      ]
    },
    {
      "cell_type": "code",
      "metadata": {
        "colab": {
          "base_uri": "https://localhost:8080/"
        },
        "id": "zPFZTKdEuCNY",
        "outputId": "505223ef-0872-46cc-ad21-e930b2fb7d69"
      },
      "source": [
        "# With tie_breaking='random', returns randomly one of the best responses\n",
        "g_MP.players[0].best_response([0.5, 0.5], tie_breaking='random')  # Try several times"
      ],
      "execution_count": null,
      "outputs": [
        {
          "output_type": "execute_result",
          "data": {
            "text/plain": [
              "1"
            ]
          },
          "metadata": {
            "tags": []
          },
          "execution_count": 35
        }
      ]
    },
    {
      "cell_type": "code",
      "metadata": {
        "colab": {
          "base_uri": "https://localhost:8080/"
        },
        "id": "x7WmuhyRuFpq",
        "outputId": "ae2047ca-f0e3-4d6e-d964-ffca77646526"
      },
      "source": [
        "\n",
        "# With tie_breaking=False, returns an array of all the best responses\n",
        "g_MP.players[0].best_response([0.5, 0.5], tie_breaking=False)"
      ],
      "execution_count": null,
      "outputs": [
        {
          "output_type": "execute_result",
          "data": {
            "text/plain": [
              "array([0, 1])"
            ]
          },
          "metadata": {
            "tags": []
          },
          "execution_count": 36
        }
      ]
    },
    {
      "cell_type": "code",
      "metadata": {
        "colab": {
          "base_uri": "https://localhost:8080/"
        },
        "id": "pb_ewYhYuIKv",
        "outputId": "9b507f19-b169-46e3-8032-761d0681697f"
      },
      "source": [
        "g_MP.is_nash(([0.5, 0.5], [0.5, 0.5]))"
      ],
      "execution_count": null,
      "outputs": [
        {
          "output_type": "execute_result",
          "data": {
            "text/plain": [
              "True"
            ]
          },
          "metadata": {
            "tags": []
          },
          "execution_count": 37
        }
      ]
    },
    {
      "cell_type": "code",
      "metadata": {
        "colab": {
          "base_uri": "https://localhost:8080/"
        },
        "id": "5g4BwMn5uI8N",
        "outputId": "0d8eea59-5ba1-433a-c682-3b3b3e7e1142"
      },
      "source": [
        "g_MP.is_nash((0, 0))"
      ],
      "execution_count": null,
      "outputs": [
        {
          "output_type": "execute_result",
          "data": {
            "text/plain": [
              "False"
            ]
          },
          "metadata": {
            "tags": []
          },
          "execution_count": 38
        }
      ]
    },
    {
      "cell_type": "code",
      "metadata": {
        "colab": {
          "base_uri": "https://localhost:8080/"
        },
        "id": "nJT6NADKuMbe",
        "outputId": "f3542879-3e8f-42f4-ef9f-c22521fb5575"
      },
      "source": [
        "g_MP.is_nash((0, [0.5, 0.5]))"
      ],
      "execution_count": null,
      "outputs": [
        {
          "output_type": "execute_result",
          "data": {
            "text/plain": [
              "False"
            ]
          },
          "metadata": {
            "tags": []
          },
          "execution_count": 39
        }
      ]
    },
    {
      "cell_type": "markdown",
      "metadata": {
        "id": "FdI_toeHh-ON"
      },
      "source": [
        "## Solve for Nash Equilibrium"
      ]
    },
    {
      "cell_type": "code",
      "metadata": {
        "colab": {
          "base_uri": "https://localhost:8080/"
        },
        "id": "9s37kxtNiB6D",
        "outputId": "a6f88510-68fb-426b-ad84-67f6563a3a05"
      },
      "source": [
        "# find the Nash equilibrium with Support Enumeration\n",
        "\n",
        "equilibria = game2.support_enumeration()\n",
        "for eq in equilibria:\n",
        "    print(eq)"
      ],
      "execution_count": null,
      "outputs": [
        {
          "output_type": "stream",
          "text": [
            "(array([0.5, 0.5]), array([0.5, 0.5]))\n"
          ],
          "name": "stdout"
        }
      ]
    },
    {
      "cell_type": "code",
      "metadata": {
        "id": "7sMuTmENuSjM"
      },
      "source": [
        "def print_pure_nash_brute(g):\n",
        "    \"\"\"\n",
        "    Print all pure Nash equilibria of a normal form game found by brute force.\n",
        "    \n",
        "    Parameters\n",
        "    ----------\n",
        "    g : NormalFormGame\n",
        "    \n",
        "    \"\"\"\n",
        "    NEs = gt.pure_nash_brute(g)\n",
        "    num_NEs = len(NEs)\n",
        "    if num_NEs == 0:\n",
        "        msg = 'no pure Nash equilibrium'\n",
        "    elif num_NEs == 1:\n",
        "        msg = '1 pure Nash equilibrium:\\n{0}'.format(NEs)\n",
        "    else:\n",
        "        msg = '{0} pure Nash equilibria:\\n{1}'.format(num_NEs, NEs)\n",
        "\n",
        "    print('The game has ' + msg)"
      ],
      "execution_count": null,
      "outputs": []
    },
    {
      "cell_type": "code",
      "metadata": {
        "colab": {
          "base_uri": "https://localhost:8080/"
        },
        "id": "Qm-DGacYuTNe",
        "outputId": "58856d6e-b806-4544-8856-4e12ac6e154a"
      },
      "source": [
        "print_pure_nash_brute(g_MP)"
      ],
      "execution_count": null,
      "outputs": [
        {
          "output_type": "stream",
          "text": [
            "The game has no pure Nash equilibrium\n"
          ],
          "name": "stdout"
        }
      ]
    },
    {
      "cell_type": "markdown",
      "metadata": {
        "id": "2GHWbuZQiKLB"
      },
      "source": [
        "## Caculating the Utility"
      ]
    },
    {
      "cell_type": "code",
      "metadata": {
        "colab": {
          "base_uri": "https://localhost:8080/"
        },
        "id": "BbQ6aktLiPeg",
        "outputId": "6fb8b9ca-4f4c-480f-9928-dc36e89e649f"
      },
      "source": [
        "# Calculate Utilities\n",
        "\n",
        "sigma_a = np.array([0.5,0.5])\n",
        "sigma_b = np.array([0.5,0.5])\n",
        "pd = nash.Game(A, B)\n",
        "pd[sigma_a, sigma_b]"
      ],
      "execution_count": null,
      "outputs": [
        {
          "output_type": "execute_result",
          "data": {
            "text/plain": [
              "array([0., 0.])"
            ]
          },
          "metadata": {
            "tags": []
          },
          "execution_count": 43
        }
      ]
    },
    {
      "cell_type": "code",
      "metadata": {
        "id": "fsk81Ms0iT3R"
      },
      "source": [
        ""
      ],
      "execution_count": null,
      "outputs": []
    }
  ]
}